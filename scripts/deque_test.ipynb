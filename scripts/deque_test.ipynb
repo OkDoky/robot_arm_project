{
 "cells": [
  {
   "cell_type": "code",
   "execution_count": 1,
   "metadata": {},
   "outputs": [],
   "source": [
    "from collections import deque"
   ]
  },
  {
   "cell_type": "code",
   "execution_count": 2,
   "metadata": {},
   "outputs": [
    {
     "name": "stdout",
     "output_type": "stream",
     "text": [
      "deque([], maxlen=5)\n"
     ]
    }
   ],
   "source": [
    "a = deque(maxlen=5)\n",
    "print(a)"
   ]
  },
  {
   "cell_type": "code",
   "execution_count": 3,
   "metadata": {},
   "outputs": [
    {
     "name": "stdout",
     "output_type": "stream",
     "text": [
      "[0] a data : deque([0], maxlen=5)\n",
      "[1] a data : deque([0, 1], maxlen=5)\n",
      "[2] a data : deque([0, 1, 2], maxlen=5)\n",
      "[3] a data : deque([0, 1, 2, 3], maxlen=5)\n",
      "[4] a data : deque([0, 1, 2, 3, 4], maxlen=5)\n",
      "[5] a data : deque([1, 2, 3, 4, 5], maxlen=5)\n",
      "[6] a data : deque([2, 3, 4, 5, 6], maxlen=5)\n",
      "[7] a data : deque([3, 4, 5, 6, 7], maxlen=5)\n",
      "[8] a data : deque([4, 5, 6, 7, 8], maxlen=5)\n",
      "[9] a data : deque([5, 6, 7, 8, 9], maxlen=5)\n",
      "[10] a data : deque([6, 7, 8, 9, 10], maxlen=5)\n",
      "[11] a data : deque([7, 8, 9, 10, 11], maxlen=5)\n",
      "[12] a data : deque([8, 9, 10, 11, 12], maxlen=5)\n",
      "[13] a data : deque([9, 10, 11, 12, 13], maxlen=5)\n",
      "[14] a data : deque([10, 11, 12, 13, 14], maxlen=5)\n",
      "[15] a data : deque([11, 12, 13, 14, 15], maxlen=5)\n",
      "[16] a data : deque([12, 13, 14, 15, 16], maxlen=5)\n",
      "[17] a data : deque([13, 14, 15, 16, 17], maxlen=5)\n",
      "[18] a data : deque([14, 15, 16, 17, 18], maxlen=5)\n",
      "[19] a data : deque([15, 16, 17, 18, 19], maxlen=5)\n",
      "[20] a data : deque([16, 17, 18, 19, 20], maxlen=5)\n",
      "[21] a data : deque([17, 18, 19, 20, 21], maxlen=5)\n",
      "[22] a data : deque([18, 19, 20, 21, 22], maxlen=5)\n",
      "[23] a data : deque([19, 20, 21, 22, 23], maxlen=5)\n",
      "[24] a data : deque([20, 21, 22, 23, 24], maxlen=5)\n",
      "[25] a data : deque([21, 22, 23, 24, 25], maxlen=5)\n",
      "[26] a data : deque([22, 23, 24, 25, 26], maxlen=5)\n",
      "[27] a data : deque([23, 24, 25, 26, 27], maxlen=5)\n",
      "[28] a data : deque([24, 25, 26, 27, 28], maxlen=5)\n",
      "[29] a data : deque([25, 26, 27, 28, 29], maxlen=5)\n",
      "[30] a data : deque([26, 27, 28, 29, 30], maxlen=5)\n",
      "[31] a data : deque([27, 28, 29, 30, 31], maxlen=5)\n",
      "[32] a data : deque([28, 29, 30, 31, 32], maxlen=5)\n",
      "[33] a data : deque([29, 30, 31, 32, 33], maxlen=5)\n",
      "[34] a data : deque([30, 31, 32, 33, 34], maxlen=5)\n",
      "[35] a data : deque([31, 32, 33, 34, 35], maxlen=5)\n",
      "[36] a data : deque([32, 33, 34, 35, 36], maxlen=5)\n",
      "[37] a data : deque([33, 34, 35, 36, 37], maxlen=5)\n",
      "[38] a data : deque([34, 35, 36, 37, 38], maxlen=5)\n",
      "[39] a data : deque([35, 36, 37, 38, 39], maxlen=5)\n",
      "[40] a data : deque([36, 37, 38, 39, 40], maxlen=5)\n",
      "[41] a data : deque([37, 38, 39, 40, 41], maxlen=5)\n",
      "[42] a data : deque([38, 39, 40, 41, 42], maxlen=5)\n",
      "[43] a data : deque([39, 40, 41, 42, 43], maxlen=5)\n",
      "[44] a data : deque([40, 41, 42, 43, 44], maxlen=5)\n",
      "[45] a data : deque([41, 42, 43, 44, 45], maxlen=5)\n",
      "[46] a data : deque([42, 43, 44, 45, 46], maxlen=5)\n",
      "[47] a data : deque([43, 44, 45, 46, 47], maxlen=5)\n",
      "[48] a data : deque([44, 45, 46, 47, 48], maxlen=5)\n",
      "[49] a data : deque([45, 46, 47, 48, 49], maxlen=5)\n"
     ]
    }
   ],
   "source": [
    "for i in range(50):\n",
    "    a.append(i)\n",
    "    print(\"[%d] a data : %s\"%(i, a))"
   ]
  },
  {
   "cell_type": "code",
   "execution_count": null,
   "metadata": {},
   "outputs": [],
   "source": []
  }
 ],
 "metadata": {
  "kernelspec": {
   "display_name": "ncs",
   "language": "python",
   "name": "python3"
  },
  "language_info": {
   "codemirror_mode": {
    "name": "ipython",
    "version": 3
   },
   "file_extension": ".py",
   "mimetype": "text/x-python",
   "name": "python",
   "nbconvert_exporter": "python",
   "pygments_lexer": "ipython3",
   "version": "3.8.18"
  }
 },
 "nbformat": 4,
 "nbformat_minor": 2
}
