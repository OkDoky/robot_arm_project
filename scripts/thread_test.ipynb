{
 "cells": [
  {
   "cell_type": "code",
   "execution_count": 3,
   "metadata": {},
   "outputs": [
    {
     "name": "stdout",
     "output_type": "stream",
     "text": [
      "simple loop is running\n",
      "main loop is running\n",
      "main loop is running\n",
      "simple loop is running\n",
      "main loop is running\n",
      "main loop is running\n",
      "simple loop is running\n",
      "main loop is done\n",
      "simple loop is running\n",
      "simple loop is running\n"
     ]
    },
    {
     "name": "stdout",
     "output_type": "stream",
     "text": [
      "simple loop is done\n"
     ]
    }
   ],
   "source": [
    "from threading import Thread, Event\n",
    "import time\n",
    "\n",
    "def simple_loop(num, event):\n",
    "    while not event.is_set():\n",
    "        print(\"simple loop is running\")\n",
    "        time.sleep(0.5)\n",
    "    print(\"simple loop is done\")\n",
    "\n",
    "a = 0\n",
    "simple_event = Event()\n",
    "simple_thread = Thread(target=simple_loop, args=(a, simple_event,))\n",
    "simple_thread.daemon = True\n",
    "simple_thread.start()\n",
    "s1 = time.time()\n",
    "while (time.time()-s1) < 1:\n",
    "    print(\"main loop is running\")\n",
    "    time.sleep(0.3)\n",
    "print(\"main loop is done\")\n",
    "time.sleep(1)\n",
    "simple_event.set()"
   ]
  },
  {
   "cell_type": "code",
   "execution_count": 4,
   "metadata": {},
   "outputs": [
    {
     "name": "stdout",
     "output_type": "stream",
     "text": [
      "simple loop is runningmain loop is running\n",
      "\n",
      "main loop is running\n",
      "simple loop is running\n",
      "main loop is running\n",
      "main loop is running\n",
      "simple loop is running\n",
      "main loop is done\n"
     ]
    },
    {
     "name": "stdout",
     "output_type": "stream",
     "text": [
      "simple loop is running\n",
      "simple loop is running\n",
      "simple loop is running\n",
      "simple loop is running\n",
      "simple loop is running\n",
      "simple loop is running\n",
      "simple loop is running\n",
      "simple loop is running\n",
      "simple loop is running\n",
      "simple loop is running\n",
      "simple loop is running\n",
      "simple loop is running\n",
      "simple loop is running\n",
      "simple loop is running\n",
      "simple loop is running\n",
      "simple loop is running\n",
      "simple loop is running\n",
      "simple loop is running\n",
      "simple loop is running\n",
      "simple loop is running\n",
      "simple loop is running\n",
      "simple loop is running\n",
      "simple loop is running\n",
      "simple loop is running\n",
      "simple loop is running\n",
      "simple loop is running\n",
      "simple loop is running\n",
      "simple loop is running\n",
      "simple loop is running\n",
      "simple loop is running\n",
      "simple loop is running\n",
      "simple loop is running\n",
      "simple loop is running\n",
      "simple loop is running\n",
      "simple loop is running\n",
      "simple loop is running\n",
      "simple loop is running\n",
      "simple loop is running\n",
      "simple loop is running\n",
      "simple loop is running\n",
      "simple loop is running\n",
      "simple loop is running\n",
      "simple loop is running\n",
      "simple loop is running\n",
      "simple loop is running\n",
      "simple loop is running\n",
      "simple loop is running\n",
      "simple loop is running\n",
      "simple loop is running\n",
      "simple loop is running\n",
      "simple loop is running\n",
      "simple loop is running\n",
      "simple loop is running\n",
      "simple loop is running\n",
      "simple loop is running\n",
      "simple loop is running\n",
      "simple loop is running\n",
      "simple loop is running\n",
      "simple loop is running\n",
      "simple loop is running\n",
      "simple loop is running\n",
      "simple loop is running\n",
      "simple loop is running\n",
      "simple loop is running\n",
      "simple loop is running\n",
      "simple loop is running\n",
      "simple loop is running\n",
      "simple loop is running\n",
      "simple loop is running\n"
     ]
    }
   ],
   "source": [
    "from threading import Thread, Event\n",
    "import time\n",
    "\n",
    "def simple_loop(num, event):\n",
    "    while not event.is_set():\n",
    "        print(\"simple loop is running\")\n",
    "        time.sleep(0.5)\n",
    "    print(\"simple loop is done\")\n",
    "\n",
    "a = 0\n",
    "simple_event = Event()\n",
    "simple_thread = Thread(target=simple_loop, args=(a, simple_event,))\n",
    "simple_thread.daemon = True\n",
    "simple_thread.start()\n",
    "s1 = time.time()\n",
    "while (time.time()-s1) < 1:\n",
    "    print(\"main loop is running\")\n",
    "    time.sleep(0.3)\n",
    "print(\"main loop is done\")"
   ]
  },
  {
   "cell_type": "code",
   "execution_count": null,
   "metadata": {},
   "outputs": [],
   "source": []
  }
 ],
 "metadata": {
  "kernelspec": {
   "display_name": "ncs",
   "language": "python",
   "name": "python3"
  },
  "language_info": {
   "codemirror_mode": {
    "name": "ipython",
    "version": 3
   },
   "file_extension": ".py",
   "mimetype": "text/x-python",
   "name": "python",
   "nbconvert_exporter": "python",
   "pygments_lexer": "ipython3",
   "version": "3.8.18"
  }
 },
 "nbformat": 4,
 "nbformat_minor": 2
}
